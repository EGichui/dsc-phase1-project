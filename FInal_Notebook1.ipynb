{
 "cells": [
  {
   "cell_type": "markdown",
   "id": "01b1f668-ee16-4d73-81d2-7af1a9c4d225",
   "metadata": {},
   "source": [
    "# **XYZ COMPANY AVIATION EXPANSION PROPOSAL**"
   ]
  },
  {
   "cell_type": "markdown",
   "id": "92196f36-48b2-4a93-9513-d6ba8009c533",
   "metadata": {},
   "source": [
    "*XYZ company is expanding into new industries to diversify its portfolio.  \r\n",
    "They are interested in purchasing and operating airplanes for commercial and private enterprises, but do not know about the potential risks of aircraft.    \r\n",
    "They seek to establish which aircraft have the lowest risk for the company to start this new business.  \r\n",
    "The aim of the analysis is provide insights to the head of the new aviation division on the on the aircraft that has the least risk for the company to invest*  \r\n",
    "*\n"
   ]
  },
  {
   "cell_type": "markdown",
   "id": "fa1718e0-6fd4-4bce-b43e-bbab5f533868",
   "metadata": {},
   "source": [
    "## **Data Understanding**"
   ]
  },
  {
   "cell_type": "markdown",
   "id": "0500c4f3-5e02-4cc5-9ade-f12ad40b2c50",
   "metadata": {},
   "source": [
    "To  arrive at our recommedations, we utilized the  Aviation Accident Database & Synopses, up to 2023 downloaded from Kaggle.com in the below link:  \n",
    "https://www.kaggle.com/datasets/khsamaha/aviation-accident-database-synopses.\n",
    "\n",
    "I used exploratory review to identify meaningful elements in the data that could guide in developing key risk indicators.  \n",
    "I focused on the below fields in the data:  \n",
    "\tThe make and model of the aircrafts.  \n",
    "\tTotal_Fatal_Injuries    per accident.  \n",
    "\tTotal_Serious_Injuries  per accident.  \n",
    "    Total_Minor_Injuries    per accident.  \n",
    "\tTotal_Uninjured  per accident.  \n",
    "The data contianed 88889 rows with  31 colums. \n",
    "I chose to drop the below colums which had high number of misisng values:\n",
    "Schedule,Air.carrier,FAR.Description,Latitude,Longitude\n",
    "\n",
    "I also cleaned the data by dropping rows that had no data for the  make and model of the aircraft which was key in determing the least risky make to procure.\n",
    "\n",
    "\n"
   ]
  },
  {
   "cell_type": "code",
   "execution_count": 176,
   "id": "1b27227d-e052-43cc-9890-d1bdfca5344c",
   "metadata": {},
   "outputs": [],
   "source": [
    "#importing the required libraries:\n",
    "import pandas as pd\n",
    "import matplotlib.pyplot as plt\n",
    "%matplotlib inline\n"
   ]
  },
  {
   "cell_type": "code",
   "execution_count": 177,
   "id": "4b3eb434-4b35-4870-9846-7028b0dafdf9",
   "metadata": {},
   "outputs": [],
   "source": [
    "#Importing data and creating a data frame:\n",
    "df=pd.read_csv('AviationData.csv',encoding='windows-1252',low_memory=False)\n",
    "\n"
   ]
  },
  {
   "cell_type": "code",
   "execution_count": 178,
   "id": "c442351c-740a-4a2a-942c-7c0973615fd3",
   "metadata": {},
   "outputs": [],
   "source": [
    "#### **Renaming the columns for ease of referencing**\n",
    "df.rename(columns={'Event.Id':'Accident_Id','Investigation.Type':'Investigation_Type','Accident.Number':'Accident_Number','Event.Date':'Accident_Date','Purpose.of.flight':'Purpose_of_flight','Total.Fatal.Injuries':'Total_Fatal_Injuries','Total.Serious.Injuries':'Total_Serious_Injuries','Total.Minor.Injuries':'Total_Minor_Injuries','Total.Uninjured':'Total_Uninjured','Broad.phase.of.flight':'Flight_type'},inplace=True)\n"
   ]
  },
  {
   "cell_type": "markdown",
   "id": "6a4cdd5f-aa78-4cb2-a4c0-feef76e631e2",
   "metadata": {},
   "source": [
    "## **Data cleaning nd anlaysis activities undertaken:**"
   ]
  },
  {
   "cell_type": "markdown",
   "id": "3072b15e-abf0-4aa8-b801-dc7ff9bf36fb",
   "metadata": {},
   "source": [
    "To clean the data innto analyzable formats, I undertook the following:  \n",
    "•\tRefined the make to replace duplicated makes  \r\n",
    "•\tChanged the data types for columns with date from text to date formats  \r\n",
    "•\tchanged the data types for columns that had numeric data which was in text format \r\n",
    "•\tdropped rows with missing data which could not be replaced by a statistical method\r\n"
   ]
  },
  {
   "cell_type": "code",
   "execution_count": 179,
   "id": "d8a42378-93da-40ff-9f34-2e322fd185a2",
   "metadata": {},
   "outputs": [
    {
     "name": "stdout",
     "output_type": "stream",
     "text": [
      "<class 'pandas.core.frame.DataFrame'>\n",
      "RangeIndex: 88889 entries, 0 to 88888\n",
      "Data columns (total 31 columns):\n",
      " #   Column                  Non-Null Count  Dtype  \n",
      "---  ------                  --------------  -----  \n",
      " 0   Accident_Id             88889 non-null  object \n",
      " 1   Investigation_Type      88889 non-null  object \n",
      " 2   Accident_Number         88889 non-null  object \n",
      " 3   Accident_Date           88889 non-null  object \n",
      " 4   Location                88837 non-null  object \n",
      " 5   Country                 88663 non-null  object \n",
      " 6   Latitude                34382 non-null  object \n",
      " 7   Longitude               34373 non-null  object \n",
      " 8   Airport.Code            50132 non-null  object \n",
      " 9   Airport.Name            52704 non-null  object \n",
      " 10  Injury.Severity         87889 non-null  object \n",
      " 11  Aircraft.damage         85695 non-null  object \n",
      " 12  Aircraft.Category       32287 non-null  object \n",
      " 13  Registration.Number     87507 non-null  object \n",
      " 14  Make                    88826 non-null  object \n",
      " 15  Model                   88797 non-null  object \n",
      " 16  Amateur.Built           88787 non-null  object \n",
      " 17  Number.of.Engines       82805 non-null  float64\n",
      " 18  Engine.Type             81793 non-null  object \n",
      " 19  FAR.Description         32023 non-null  object \n",
      " 20  Schedule                12582 non-null  object \n",
      " 21  Purpose_of_flight       82697 non-null  object \n",
      " 22  Air.carrier             16648 non-null  object \n",
      " 23  Total_Fatal_Injuries    77488 non-null  float64\n",
      " 24  Total_Serious_Injuries  76379 non-null  float64\n",
      " 25  Total_Minor_Injuries    76956 non-null  float64\n",
      " 26  Total_Uninjured         82977 non-null  float64\n",
      " 27  Weather.Condition       84397 non-null  object \n",
      " 28  Flight_type             61724 non-null  object \n",
      " 29  Report.Status           82505 non-null  object \n",
      " 30  Publication.Date        75118 non-null  object \n",
      "dtypes: float64(5), object(26)\n",
      "memory usage: 21.0+ MB\n"
     ]
    }
   ],
   "source": [
    "## To determine the data structure and idenfify coluns with misisng dataL\n",
    "df.info()"
   ]
  },
  {
   "cell_type": "code",
   "execution_count": 180,
   "id": "e1826aa3-8aba-458d-9e75-5f4608a6778b",
   "metadata": {},
   "outputs": [
    {
     "data": {
      "text/plain": [
       "(88889, 26)"
      ]
     },
     "execution_count": 180,
     "metadata": {},
     "output_type": "execute_result"
    }
   ],
   "source": [
    "##dropping unnecesary colums in the data set:\n",
    "df=df.drop('Schedule',axis=1)\n",
    "df=df.drop('Air.carrier',axis=1)\n",
    "df=df.drop('FAR.Description',axis=1)\n",
    "df=df.drop('Latitude',axis=1)\n",
    "df=df.drop('Longitude',axis=1)\n",
    "df.shape"
   ]
  },
  {
   "cell_type": "code",
   "execution_count": 181,
   "id": "2ed31fe4-f4cf-4cf7-827b-28a1bf0373a1",
   "metadata": {},
   "outputs": [
    {
     "name": "stdout",
     "output_type": "stream",
     "text": [
      "<class 'pandas.core.frame.DataFrame'>\n",
      "RangeIndex: 88889 entries, 0 to 88888\n",
      "Data columns (total 26 columns):\n",
      " #   Column                  Non-Null Count  Dtype  \n",
      "---  ------                  --------------  -----  \n",
      " 0   Accident_Id             88889 non-null  object \n",
      " 1   Investigation_Type      88889 non-null  object \n",
      " 2   Accident_Number         88889 non-null  object \n",
      " 3   Accident_Date           88889 non-null  object \n",
      " 4   Location                88837 non-null  object \n",
      " 5   Country                 88663 non-null  object \n",
      " 6   Airport.Code            50132 non-null  object \n",
      " 7   Airport.Name            52704 non-null  object \n",
      " 8   Injury.Severity         87889 non-null  object \n",
      " 9   Aircraft.damage         85695 non-null  object \n",
      " 10  Aircraft.Category       32287 non-null  object \n",
      " 11  Registration.Number     87507 non-null  object \n",
      " 12  Make                    88826 non-null  object \n",
      " 13  Model                   88797 non-null  object \n",
      " 14  Amateur.Built           88787 non-null  object \n",
      " 15  Number.of.Engines       82805 non-null  float64\n",
      " 16  Engine.Type             81793 non-null  object \n",
      " 17  Purpose_of_flight       82697 non-null  object \n",
      " 18  Total_Fatal_Injuries    77488 non-null  float64\n",
      " 19  Total_Serious_Injuries  76379 non-null  float64\n",
      " 20  Total_Minor_Injuries    76956 non-null  float64\n",
      " 21  Total_Uninjured         82977 non-null  float64\n",
      " 22  Weather.Condition       84397 non-null  object \n",
      " 23  Flight_type             61724 non-null  object \n",
      " 24  Report.Status           82505 non-null  object \n",
      " 25  Publication.Date        75118 non-null  object \n",
      "dtypes: float64(5), object(21)\n",
      "memory usage: 17.6+ MB\n"
     ]
    }
   ],
   "source": [
    "df.info()"
   ]
  },
  {
   "cell_type": "markdown",
   "id": "7d0aeffd-5c67-48ef-8484-f10cd0cd2eea",
   "metadata": {},
   "source": [
    "#### **Dropping values that have null values on the make and model of the plane**"
   ]
  },
  {
   "cell_type": "code",
   "execution_count": 182,
   "id": "85bf71e1-6823-4ec8-86ce-011ea16e0e23",
   "metadata": {},
   "outputs": [
    {
     "data": {
      "text/plain": [
       "(88777, 26)"
      ]
     },
     "execution_count": 182,
     "metadata": {},
     "output_type": "execute_result"
    }
   ],
   "source": [
    "df=df.dropna(subset=['Make'])\n",
    "df=df.dropna(subset=['Model'])\n",
    "df.shape"
   ]
  },
  {
   "cell_type": "markdown",
   "id": "2ca18c6f-232d-423e-b50a-82dcaf0a4895",
   "metadata": {},
   "source": [
    "#### **Filling missing values in the columns to use for analysis**\n"
   ]
  },
  {
   "cell_type": "code",
   "execution_count": 183,
   "id": "2ef7e20d-90e0-43ee-baea-5c4dd10340fc",
   "metadata": {},
   "outputs": [],
   "source": [
    "df['Total_Fatal_Injuries']=df['Total_Fatal_Injuries'].fillna(df['Total_Fatal_Injuries'].median())\n",
    "df['Total_Serious_Injuries']=df['Total_Serious_Injuries'].fillna(df['Total_Serious_Injuries'].median())\n",
    "df['Total_Minor_Injuries']=df['Total_Minor_Injuries'].fillna(df['Total_Minor_Injuries'].median ())\n",
    "df['Total_Uninjured']=df['Total_Uninjured'].fillna(df['Total_Uninjured'].median ())\n",
    "df['Location']=df['Location'].fillna('Unkown')\n",
    "df['Country']=df['Country'].fillna('Unkown')\n",
    "df['Airport.Code']=df['Airport.Code'].fillna('Unkown')\n",
    "df['Airport.Name']=df['Airport.Name'].fillna('Unkown')\n",
    "df['Airport.Name']=df['Airport.Name'].fillna('Unkown')\n",
    "df['Injury.Severity']=df['Injury.Severity'].fillna('Unkown')\n",
    "df['Aircraft.damage']=df['Aircraft.damage'].fillna('Unkown')\n",
    "df['Aircraft.Category']=df['Aircraft.Category'].fillna('Unkown')\n",
    "df['Weather.Condition']=df['Weather.Condition'].fillna('Unkown')\n",
    "\n"
   ]
  },
  {
   "cell_type": "markdown",
   "id": "87d5011b-0c7b-4435-a3db-dd8d63d3b66e",
   "metadata": {},
   "source": [
    "#### **Refining the make of the aircraft to eliminate duplication**"
   ]
  },
  {
   "cell_type": "code",
   "execution_count": 184,
   "id": "37a5c3b2-1e84-457d-be7f-e5905c0d8d06",
   "metadata": {},
   "outputs": [],
   "source": [
    "df['Make']=df['Make'].replace('AEROSTAR INTERNATIONAL','AEROSTAR')\n",
    "df['Make']=df['Make'].replace('AEROSTAR INTERNATIONAL INC','AEROSTAR')\n",
    "df['Make']=df['Make'].replace('AIR TRACTOR INC','AIR TRACTOR')\n",
    "df['Make']=df['Make'].replace('AIRBUS INDUSTRIES','AIRBUS')\n",
    "df['Make']=df['Make'].replace('AIRBUS INDUSTRIES','AIRBUS')\n",
    "df['Make']=df['Make'].replace('AEROSTAR INTERNATIONAL INC','AEROSTAR')\n",
    "df.loc[df['Make'].str.contains('AIRBUS', case=False, na=False), 'Make'] = 'AIRBUS'\n",
    "df['Make']=df['Make'].replace('AMERICAN CHAMPION (ACAC)','AMERICAN')\n",
    "df['Make']=df['Make'].replace('AMERICAN CHAMPION AIRCRAFT','AMERICAN')\n",
    "df['Make']=df['Make'].replace('AVIAT AIRCRAFT INC','AVIAT')\n",
    "df['Make']=df['Make'].replace('BEECHCRAFT','BEECH')\n",
    "df['Make']=df['Make'].replace('BELL HELICOPTER TEXTRON','BELL')\n",
    "df['Make']=df['Make'].replace('BELL HELICOPTER TEXTRON CANADA','BELL')\n",
    "df['Make']=df['Make'].replace('BOEING COMPANY','BOEING')\n",
    "df['Make']=df['Make'].replace('BOEING STEARMAN','BOEING')\n",
    "df['Make']=df['Make'].replace('BOEING STEARMAN','BOEING')\n",
    "df['Make']=df['Make'].replace('BOMBARDIER INC','BOMBARDIER')\n",
    "df['Make']=df['Make'].replace('BOMBARDIER INC','BOMBARDIER')\n",
    "df['Make']=df['Make'].replace('BOMBARDIER, INC.','BOMBARDIER')\n",
    "df['Make']=df['Make'].replace('BRITTEN-NORMAN','BRITTEN NORMAN')\n",
    "df['Make']=df['Make'].replace('CAMERON BALLOONS','CAMERON')\n",
    "df['Make']=df['Make'].replace('CIRRUS DESIGN CORP','CIRRUS')\n",
    "df['Make']=df['Make'].replace('CIRRUS DESIGN CORP.','CIRRUS')\n",
    "df['Make']=df['Make'].replace('DASSAULT AVIATION','DASSAULT')\n",
    "df['Make']=df['Make'].replace('DASSAULT-BREGUET','DASSAULT')\n",
    "df['Make']=df['Make'].replace('DE HAVILLAND','DEHAVILLAND')\n",
    "df['Make']=df['Make'].replace('DIAMOND AIRCRAFT IND INC','DIAMOND')\n",
    "df['Make']=df['Make'].replace('MCDONNELL DOUGLAS AIRCRAFT CO','MCDONNELL DOUGLAS')\n",
    "df['Make']=df['Make'].replace('DIAMOND AIRCRAFT IND INC','DIAMOND')\n"
   ]
  },
  {
   "cell_type": "markdown",
   "id": "d30a2498-405e-4694-8997-48d92fe88a19",
   "metadata": {},
   "source": [
    "df['Aircraft.damage']=df['Aircraft.damage'].replace('Unkown','Unknown')\n",
    "df['Aircraft.damage'].value_counts()"
   ]
  },
  {
   "cell_type": "code",
   "execution_count": 185,
   "id": "6e79f530-3b17-42eb-9101-4ee604e525e4",
   "metadata": {},
   "outputs": [
    {
     "data": {
      "text/plain": [
       "Make\n",
       "CESSNA             27145\n",
       "PIPER              14869\n",
       "BEECH               5376\n",
       "BELL                2766\n",
       "BOEING              2746\n",
       "                   ...  \n",
       "AERO COMP INC          1\n",
       "BURAK STANLEY A        1\n",
       "COHEN                  1\n",
       "KITCHENS               1\n",
       "ROYSE RALPH L          1\n",
       "Name: count, Length: 7563, dtype: int64"
      ]
     },
     "execution_count": 185,
     "metadata": {},
     "output_type": "execute_result"
    }
   ],
   "source": [
    "##formatting the name of make to be uppercase:\n",
    "df['Make']=df['Make'].str.strip().str.upper()\n",
    "df['Make'].value_counts()\n"
   ]
  },
  {
   "cell_type": "markdown",
   "id": "fd980e35-48f7-4ee5-ae56-e3d0ee9af735",
   "metadata": {},
   "source": [
    "### **converting data types and creating new colums for analysis**"
   ]
  },
  {
   "cell_type": "code",
   "execution_count": 186,
   "id": "f9f98fd2-b6cc-401b-be54-5f7e30b88107",
   "metadata": {},
   "outputs": [
    {
     "name": "stdout",
     "output_type": "stream",
     "text": [
      "<class 'pandas.core.frame.DataFrame'>\n",
      "Index: 88777 entries, 0 to 88888\n",
      "Data columns (total 26 columns):\n",
      " #   Column                  Non-Null Count  Dtype         \n",
      "---  ------                  --------------  -----         \n",
      " 0   Accident_Id             88777 non-null  object        \n",
      " 1   Investigation_Type      88777 non-null  object        \n",
      " 2   Accident_Number         88777 non-null  object        \n",
      " 3   Accident_Date           88777 non-null  datetime64[ns]\n",
      " 4   Location                88777 non-null  object        \n",
      " 5   Country                 88777 non-null  object        \n",
      " 6   Airport.Code            88777 non-null  object        \n",
      " 7   Airport.Name            88777 non-null  object        \n",
      " 8   Injury.Severity         88777 non-null  object        \n",
      " 9   Aircraft.damage         88777 non-null  object        \n",
      " 10  Aircraft.Category       88777 non-null  object        \n",
      " 11  Registration.Number     87438 non-null  object        \n",
      " 12  Make                    88777 non-null  object        \n",
      " 13  Model                   88777 non-null  object        \n",
      " 14  Amateur.Built           88678 non-null  object        \n",
      " 15  Number.of.Engines       82754 non-null  float64       \n",
      " 16  Engine.Type             81752 non-null  object        \n",
      " 17  Purpose_of_flight       82639 non-null  object        \n",
      " 18  Total_Fatal_Injuries    88777 non-null  float64       \n",
      " 19  Total_Serious_Injuries  88777 non-null  float64       \n",
      " 20  Total_Minor_Injuries    88777 non-null  float64       \n",
      " 21  Total_Uninjured         88777 non-null  float64       \n",
      " 22  Weather.Condition       88777 non-null  object        \n",
      " 23  Flight_type             61683 non-null  object        \n",
      " 24  Report.Status           82439 non-null  object        \n",
      " 25  Publication.Date        75012 non-null  object        \n",
      "dtypes: datetime64[ns](1), float64(5), object(20)\n",
      "memory usage: 18.3+ MB\n"
     ]
    },
    {
     "name": "stderr",
     "output_type": "stream",
     "text": [
      "C:\\Users\\egichuhi\\AppData\\Local\\Temp\\ipykernel_29016\\1887703090.py:1: UserWarning: Parsing dates in %d/%m/%Y format when dayfirst=False (the default) was specified. Pass `dayfirst=True` or specify a format to silence this warning.\n",
      "  df['Accident_Date'] = pd.to_datetime(df['Accident_Date'],errors='coerce')\n"
     ]
    }
   ],
   "source": [
    "df['Accident_Date'] = pd.to_datetime(df['Accident_Date'],errors='coerce')\n",
    "df.info()"
   ]
  },
  {
   "cell_type": "code",
   "execution_count": 187,
   "id": "e9330f7a-137c-49ca-a3ef-29262423e439",
   "metadata": {},
   "outputs": [
    {
     "data": {
      "text/html": [
       "<div>\n",
       "<style scoped>\n",
       "    .dataframe tbody tr th:only-of-type {\n",
       "        vertical-align: middle;\n",
       "    }\n",
       "\n",
       "    .dataframe tbody tr th {\n",
       "        vertical-align: top;\n",
       "    }\n",
       "\n",
       "    .dataframe thead th {\n",
       "        text-align: right;\n",
       "    }\n",
       "</style>\n",
       "<table border=\"1\" class=\"dataframe\">\n",
       "  <thead>\n",
       "    <tr style=\"text-align: right;\">\n",
       "      <th></th>\n",
       "      <th>Accident_Id</th>\n",
       "      <th>Investigation_Type</th>\n",
       "      <th>Accident_Number</th>\n",
       "      <th>Accident_Date</th>\n",
       "      <th>Location</th>\n",
       "      <th>Country</th>\n",
       "      <th>Airport.Code</th>\n",
       "      <th>Airport.Name</th>\n",
       "      <th>Injury.Severity</th>\n",
       "      <th>Aircraft.damage</th>\n",
       "      <th>...</th>\n",
       "      <th>Purpose_of_flight</th>\n",
       "      <th>Total_Fatal_Injuries</th>\n",
       "      <th>Total_Serious_Injuries</th>\n",
       "      <th>Total_Minor_Injuries</th>\n",
       "      <th>Total_Uninjured</th>\n",
       "      <th>Weather.Condition</th>\n",
       "      <th>Flight_type</th>\n",
       "      <th>Report.Status</th>\n",
       "      <th>Publication.Date</th>\n",
       "      <th>Year</th>\n",
       "    </tr>\n",
       "  </thead>\n",
       "  <tbody>\n",
       "    <tr>\n",
       "      <th>0</th>\n",
       "      <td>20001218X45444</td>\n",
       "      <td>Accident</td>\n",
       "      <td>SEA87LA080</td>\n",
       "      <td>1948-10-24</td>\n",
       "      <td>MOOSE CREEK, ID</td>\n",
       "      <td>United States</td>\n",
       "      <td>Unkown</td>\n",
       "      <td>Unkown</td>\n",
       "      <td>Fatal(2)</td>\n",
       "      <td>Destroyed</td>\n",
       "      <td>...</td>\n",
       "      <td>Personal</td>\n",
       "      <td>2.0</td>\n",
       "      <td>0.0</td>\n",
       "      <td>0.0</td>\n",
       "      <td>0.0</td>\n",
       "      <td>UNK</td>\n",
       "      <td>Cruise</td>\n",
       "      <td>Probable Cause</td>\n",
       "      <td>NaN</td>\n",
       "      <td>1948</td>\n",
       "    </tr>\n",
       "    <tr>\n",
       "      <th>1</th>\n",
       "      <td>20001218X45447</td>\n",
       "      <td>Accident</td>\n",
       "      <td>LAX94LA336</td>\n",
       "      <td>1962-07-19</td>\n",
       "      <td>BRIDGEPORT, CA</td>\n",
       "      <td>United States</td>\n",
       "      <td>Unkown</td>\n",
       "      <td>Unkown</td>\n",
       "      <td>Fatal(4)</td>\n",
       "      <td>Destroyed</td>\n",
       "      <td>...</td>\n",
       "      <td>Personal</td>\n",
       "      <td>4.0</td>\n",
       "      <td>0.0</td>\n",
       "      <td>0.0</td>\n",
       "      <td>0.0</td>\n",
       "      <td>UNK</td>\n",
       "      <td>Unknown</td>\n",
       "      <td>Probable Cause</td>\n",
       "      <td>19/09/1996</td>\n",
       "      <td>1962</td>\n",
       "    </tr>\n",
       "  </tbody>\n",
       "</table>\n",
       "<p>2 rows × 27 columns</p>\n",
       "</div>"
      ],
      "text/plain": [
       "      Accident_Id Investigation_Type Accident_Number Accident_Date  \\\n",
       "0  20001218X45444           Accident      SEA87LA080    1948-10-24   \n",
       "1  20001218X45447           Accident      LAX94LA336    1962-07-19   \n",
       "\n",
       "          Location        Country Airport.Code Airport.Name Injury.Severity  \\\n",
       "0  MOOSE CREEK, ID  United States       Unkown       Unkown        Fatal(2)   \n",
       "1   BRIDGEPORT, CA  United States       Unkown       Unkown        Fatal(4)   \n",
       "\n",
       "  Aircraft.damage  ... Purpose_of_flight Total_Fatal_Injuries  \\\n",
       "0       Destroyed  ...          Personal                  2.0   \n",
       "1       Destroyed  ...          Personal                  4.0   \n",
       "\n",
       "  Total_Serious_Injuries Total_Minor_Injuries Total_Uninjured  \\\n",
       "0                    0.0                  0.0             0.0   \n",
       "1                    0.0                  0.0             0.0   \n",
       "\n",
       "   Weather.Condition Flight_type   Report.Status  Publication.Date  Year  \n",
       "0                UNK      Cruise  Probable Cause               NaN  1948  \n",
       "1                UNK     Unknown  Probable Cause        19/09/1996  1962  \n",
       "\n",
       "[2 rows x 27 columns]"
      ]
     },
     "execution_count": 187,
     "metadata": {},
     "output_type": "execute_result"
    }
   ],
   "source": [
    "#adding year as a column\n",
    "df['Year']=df['Accident_Date'].dt.year\n",
    "df.head(2)"
   ]
  },
  {
   "cell_type": "code",
   "execution_count": 188,
   "id": "692c473e-28a6-40df-b50c-8c616fd01404",
   "metadata": {},
   "outputs": [
    {
     "data": {
      "text/plain": [
       "Total_Fatal_Injuries\n",
       "0      70997\n",
       "1       8868\n",
       "2       5162\n",
       "3       1585\n",
       "4       1103\n",
       "       ...  \n",
       "156        1\n",
       "68         1\n",
       "31         1\n",
       "115        1\n",
       "176        1\n",
       "Name: count, Length: 125, dtype: int64"
      ]
     },
     "execution_count": 188,
     "metadata": {},
     "output_type": "execute_result"
    }
   ],
   "source": [
    "#converting datacolum total fatal injuries to integers\n",
    "df['Total_Fatal_Injuries'] = df['Total_Fatal_Injuries'].astype(int)\n",
    "\n",
    "df['Total_Fatal_Injuries'].value_counts()"
   ]
  },
  {
   "cell_type": "markdown",
   "id": "55d5f36a-5ee4-4d11-8ae0-40f283c1f669",
   "metadata": {},
   "source": [
    "##DF_accidents_by_make.to_csv('Accidents by make.csv', index=True)"
   ]
  },
  {
   "cell_type": "markdown",
   "id": "a173557e-96a7-49e1-a1ac-f1d79883ac8d",
   "metadata": {},
   "source": [
    "adding columns to the data frame"
   ]
  },
  {
   "cell_type": "code",
   "execution_count": 189,
   "id": "f800ccd2-8a65-4aac-927d-1ae14f644fd7",
   "metadata": {},
   "outputs": [],
   "source": [
    "##df_accidents_by_make= df.groupby('Make')['Accident_Id'].count()\n",
    "##df_accidents_by_make"
   ]
  },
  {
   "cell_type": "code",
   "execution_count": 190,
   "id": "6c829741-6057-4338-aed6-361e15c89c9a",
   "metadata": {},
   "outputs": [],
   "source": [
    "#adding year as a column\n",
    "##df['Year']=df['Accident_Date'].dt.year\n",
    "##df.head(2)"
   ]
  },
  {
   "cell_type": "markdown",
   "id": "c5b5304e-b2a3-441b-a134-e96b12f75585",
   "metadata": {},
   "source": [
    "#### **Creating data sets by agrregation of the clean data set**"
   ]
  },
  {
   "cell_type": "markdown",
   "id": "212a9693-7498-4cf4-a222-d2c1869b19ba",
   "metadata": {},
   "source": [
    "In the analysis, I aggregated the data with an aim of:  \n",
    "Summarizing the accidents by make of the aircraft.  \n",
    "Summarizing the damages by make of the aircraft.   \n",
    "computing  the total passangers carried by make of the aircaft.   \n",
    "Filtering out commercially viable makes based on total passangers carried.  \n"
   ]
  },
  {
   "cell_type": "code",
   "execution_count": 191,
   "id": "21b5ca1b-0967-48d6-91cf-aa9fdfc82213",
   "metadata": {},
   "outputs": [
    {
     "data": {
      "text/html": [
       "<div>\n",
       "<style scoped>\n",
       "    .dataframe tbody tr th:only-of-type {\n",
       "        vertical-align: middle;\n",
       "    }\n",
       "\n",
       "    .dataframe tbody tr th {\n",
       "        vertical-align: top;\n",
       "    }\n",
       "\n",
       "    .dataframe thead th {\n",
       "        text-align: right;\n",
       "    }\n",
       "</style>\n",
       "<table border=\"1\" class=\"dataframe\">\n",
       "  <thead>\n",
       "    <tr style=\"text-align: right;\">\n",
       "      <th></th>\n",
       "      <th>Year</th>\n",
       "      <th>Make</th>\n",
       "      <th>accident_count</th>\n",
       "    </tr>\n",
       "  </thead>\n",
       "  <tbody>\n",
       "    <tr>\n",
       "      <th>0</th>\n",
       "      <td>1948</td>\n",
       "      <td>STINSON</td>\n",
       "      <td>1</td>\n",
       "    </tr>\n",
       "    <tr>\n",
       "      <th>1</th>\n",
       "      <td>1962</td>\n",
       "      <td>PIPER</td>\n",
       "      <td>1</td>\n",
       "    </tr>\n",
       "    <tr>\n",
       "      <th>2</th>\n",
       "      <td>1974</td>\n",
       "      <td>CESSNA</td>\n",
       "      <td>1</td>\n",
       "    </tr>\n",
       "    <tr>\n",
       "      <th>3</th>\n",
       "      <td>1977</td>\n",
       "      <td>ROCKWELL</td>\n",
       "      <td>1</td>\n",
       "    </tr>\n",
       "    <tr>\n",
       "      <th>4</th>\n",
       "      <td>1979</td>\n",
       "      <td>CESSNA</td>\n",
       "      <td>1</td>\n",
       "    </tr>\n",
       "    <tr>\n",
       "      <th>...</th>\n",
       "      <td>...</td>\n",
       "      <td>...</td>\n",
       "      <td>...</td>\n",
       "    </tr>\n",
       "    <tr>\n",
       "      <th>14831</th>\n",
       "      <td>2022</td>\n",
       "      <td>WINGREN NORMAN</td>\n",
       "      <td>1</td>\n",
       "    </tr>\n",
       "    <tr>\n",
       "      <th>14832</th>\n",
       "      <td>2022</td>\n",
       "      <td>WREN RONNIE D</td>\n",
       "      <td>1</td>\n",
       "    </tr>\n",
       "    <tr>\n",
       "      <th>14833</th>\n",
       "      <td>2022</td>\n",
       "      <td>YAKOVLEV</td>\n",
       "      <td>2</td>\n",
       "    </tr>\n",
       "    <tr>\n",
       "      <th>14834</th>\n",
       "      <td>2022</td>\n",
       "      <td>YATES MIKE E</td>\n",
       "      <td>1</td>\n",
       "    </tr>\n",
       "    <tr>\n",
       "      <th>14835</th>\n",
       "      <td>2022</td>\n",
       "      <td>ZENITH</td>\n",
       "      <td>5</td>\n",
       "    </tr>\n",
       "  </tbody>\n",
       "</table>\n",
       "<p>14836 rows × 3 columns</p>\n",
       "</div>"
      ],
      "text/plain": [
       "       Year            Make  accident_count\n",
       "0      1948         STINSON               1\n",
       "1      1962           PIPER               1\n",
       "2      1974          CESSNA               1\n",
       "3      1977        ROCKWELL               1\n",
       "4      1979          CESSNA               1\n",
       "...     ...             ...             ...\n",
       "14831  2022  WINGREN NORMAN               1\n",
       "14832  2022   WREN RONNIE D               1\n",
       "14833  2022        YAKOVLEV               2\n",
       "14834  2022    YATES MIKE E               1\n",
       "14835  2022          ZENITH               5\n",
       "\n",
       "[14836 rows x 3 columns]"
      ]
     },
     "execution_count": 191,
     "metadata": {},
     "output_type": "execute_result"
    }
   ],
   "source": [
    "##summarizing data by make and year\n",
    "accident_by_year_make=df.groupby(['Year','Make']).size().reset_index(name='accident_count')    \n",
    "accident_by_year_make"
   ]
  },
  {
   "cell_type": "code",
   "execution_count": 192,
   "id": "fec6dadf-b3f5-4f28-a4a5-d44cdbb01668",
   "metadata": {},
   "outputs": [],
   "source": [
    "# creating subset of damage by malke\n",
    "#df_Damage_by_make=df.pivot_table(index='Make', columns='Aircraft.damage', aggfunc='size', fill_value=0)"
   ]
  },
  {
   "cell_type": "code",
   "execution_count": 193,
   "id": "5d92b942-59a9-4642-91e0-c5ef96a92f57",
   "metadata": {},
   "outputs": [],
   "source": [
    "#Creating colums total injured and total passangers:\n",
    "df['Total_Injured']=df['Total_Fatal_Injuries']+df['Total_Serious_Injuries']+df['Total_Minor_Injuries']\n",
    "df['Total_passangers']=df['Total_Fatal_Injuries']+df['Total_Serious_Injuries']+df['Total_Minor_Injuries']+df['Total_Uninjured']"
   ]
  },
  {
   "cell_type": "code",
   "execution_count": 194,
   "id": "18c37686-3200-4acf-be5b-ba5f01de6e85",
   "metadata": {},
   "outputs": [],
   "source": [
    "#creating a data set of accidents by make:\n",
    "df_accidents_by_make= df.groupby('Make').agg({'Total_passangers': 'sum', 'Total_Injured': 'sum','Accident_Id':'count','Total_Fatal_Injuries':'sum'}).reset_index()         "
   ]
  },
  {
   "cell_type": "code",
   "execution_count": 195,
   "id": "3881ef4d-5c77-4d97-9989-8822b2e7c5d2",
   "metadata": {},
   "outputs": [
    {
     "data": {
      "text/html": [
       "<div>\n",
       "<style scoped>\n",
       "    .dataframe tbody tr th:only-of-type {\n",
       "        vertical-align: middle;\n",
       "    }\n",
       "\n",
       "    .dataframe tbody tr th {\n",
       "        vertical-align: top;\n",
       "    }\n",
       "\n",
       "    .dataframe thead th {\n",
       "        text-align: right;\n",
       "    }\n",
       "</style>\n",
       "<table border=\"1\" class=\"dataframe\">\n",
       "  <thead>\n",
       "    <tr style=\"text-align: right;\">\n",
       "      <th></th>\n",
       "      <th>Make</th>\n",
       "      <th>Total_passangers</th>\n",
       "      <th>Total_Injured</th>\n",
       "      <th>no_of accidents</th>\n",
       "      <th>Total_Fatal_Injuries</th>\n",
       "    </tr>\n",
       "  </thead>\n",
       "  <tbody>\n",
       "    <tr>\n",
       "      <th>0</th>\n",
       "      <td>107.5 FLYING CORPORATION</td>\n",
       "      <td>2.0</td>\n",
       "      <td>1.0</td>\n",
       "      <td>1</td>\n",
       "      <td>1</td>\n",
       "    </tr>\n",
       "    <tr>\n",
       "      <th>1</th>\n",
       "      <td>1200</td>\n",
       "      <td>2.0</td>\n",
       "      <td>1.0</td>\n",
       "      <td>1</td>\n",
       "      <td>0</td>\n",
       "    </tr>\n",
       "    <tr>\n",
       "      <th>2</th>\n",
       "      <td>177MF LLC</td>\n",
       "      <td>2.0</td>\n",
       "      <td>2.0</td>\n",
       "      <td>1</td>\n",
       "      <td>0</td>\n",
       "    </tr>\n",
       "    <tr>\n",
       "      <th>3</th>\n",
       "      <td>1977 COLFER-CHAN</td>\n",
       "      <td>2.0</td>\n",
       "      <td>1.0</td>\n",
       "      <td>1</td>\n",
       "      <td>0</td>\n",
       "    </tr>\n",
       "    <tr>\n",
       "      <th>4</th>\n",
       "      <td>1ST FTR GP</td>\n",
       "      <td>1.0</td>\n",
       "      <td>1.0</td>\n",
       "      <td>1</td>\n",
       "      <td>1</td>\n",
       "    </tr>\n",
       "  </tbody>\n",
       "</table>\n",
       "</div>"
      ],
      "text/plain": [
       "                       Make  Total_passangers  Total_Injured  no_of accidents  \\\n",
       "0  107.5 FLYING CORPORATION               2.0            1.0                1   \n",
       "1                      1200               2.0            1.0                1   \n",
       "2                 177MF LLC               2.0            2.0                1   \n",
       "3          1977 COLFER-CHAN               2.0            1.0                1   \n",
       "4                1ST FTR GP               1.0            1.0                1   \n",
       "\n",
       "   Total_Fatal_Injuries  \n",
       "0                     1  \n",
       "1                     0  \n",
       "2                     0  \n",
       "3                     0  \n",
       "4                     1  "
      ]
     },
     "execution_count": 195,
     "metadata": {},
     "output_type": "execute_result"
    }
   ],
   "source": [
    "#Renaming colums to accident count:\n",
    "df_accidents_by_make=df_accidents_by_make.rename(columns={'Accident_Id':'no_of accidents'})\n",
    "df_accidents_by_make.head()\n"
   ]
  },
  {
   "cell_type": "code",
   "execution_count": 196,
   "id": "05cba969-9d1b-47d2-b92e-4e5c74c51ec9",
   "metadata": {},
   "outputs": [
    {
     "data": {
      "text/html": [
       "<div>\n",
       "<style scoped>\n",
       "    .dataframe tbody tr th:only-of-type {\n",
       "        vertical-align: middle;\n",
       "    }\n",
       "\n",
       "    .dataframe tbody tr th {\n",
       "        vertical-align: top;\n",
       "    }\n",
       "\n",
       "    .dataframe thead th {\n",
       "        text-align: right;\n",
       "    }\n",
       "</style>\n",
       "<table border=\"1\" class=\"dataframe\">\n",
       "  <thead>\n",
       "    <tr style=\"text-align: right;\">\n",
       "      <th></th>\n",
       "      <th>Make</th>\n",
       "      <th>Total_passangers</th>\n",
       "      <th>Total_Injured</th>\n",
       "      <th>no_of accidents</th>\n",
       "      <th>Total_Fatal_Injuries</th>\n",
       "    </tr>\n",
       "  </thead>\n",
       "  <tbody>\n",
       "    <tr>\n",
       "      <th>66</th>\n",
       "      <td>AERO COMMANDER</td>\n",
       "      <td>951.0</td>\n",
       "      <td>427.0</td>\n",
       "      <td>429</td>\n",
       "      <td>246</td>\n",
       "    </tr>\n",
       "    <tr>\n",
       "      <th>93</th>\n",
       "      <td>AERONCA</td>\n",
       "      <td>1048.0</td>\n",
       "      <td>442.0</td>\n",
       "      <td>636</td>\n",
       "      <td>118</td>\n",
       "    </tr>\n",
       "    <tr>\n",
       "      <th>108</th>\n",
       "      <td>AEROSPATIALE</td>\n",
       "      <td>3319.0</td>\n",
       "      <td>708.0</td>\n",
       "      <td>388</td>\n",
       "      <td>349</td>\n",
       "    </tr>\n",
       "  </tbody>\n",
       "</table>\n",
       "</div>"
      ],
      "text/plain": [
       "               Make  Total_passangers  Total_Injured  no_of accidents  \\\n",
       "66   AERO COMMANDER             951.0          427.0              429   \n",
       "93          AERONCA            1048.0          442.0              636   \n",
       "108    AEROSPATIALE            3319.0          708.0              388   \n",
       "\n",
       "     Total_Fatal_Injuries  \n",
       "66                    246  \n",
       "93                    118  \n",
       "108                   349  "
      ]
     },
     "execution_count": 196,
     "metadata": {},
     "output_type": "execute_result"
    }
   ],
   "source": [
    "#Filetering out data set that meets assumption   of 500 or more passangers per make:\n",
    "df_commercial_plane_data=df_accidents_by_make[df_accidents_by_make['Total_passangers']>=500]\n",
    "#commercial_plane_data['Fatality_rate']=(commercial_plane_data['Total_Fatal_Injuries']/commercial_plane_data['Total_passangers'])*100\n",
    "#commercial_plane_data=df[df['Total_passangers']>=50]##assumed that a commercially viable plane should carry 50 or more passangers\n",
    "df_commercial_plane_data.head(3)\n",
    "#df_commercial_plane_data['Total_passangers'].sum()\n",
    "\n"
   ]
  },
  {
   "cell_type": "markdown",
   "id": "d1e1a144-aa1d-498f-9ab4-24edead96734",
   "metadata": {},
   "source": [
    "#### **Exporting clean data**"
   ]
  },
  {
   "cell_type": "code",
   "execution_count": 197,
   "id": "190c70ad-73d3-41a4-9f54-04bc95fd260c",
   "metadata": {},
   "outputs": [
    {
     "data": {
      "text/html": [
       "<div>\n",
       "<style scoped>\n",
       "    .dataframe tbody tr th:only-of-type {\n",
       "        vertical-align: middle;\n",
       "    }\n",
       "\n",
       "    .dataframe tbody tr th {\n",
       "        vertical-align: top;\n",
       "    }\n",
       "\n",
       "    .dataframe thead th {\n",
       "        text-align: right;\n",
       "    }\n",
       "</style>\n",
       "<table border=\"1\" class=\"dataframe\">\n",
       "  <thead>\n",
       "    <tr style=\"text-align: right;\">\n",
       "      <th></th>\n",
       "      <th>Make</th>\n",
       "      <th>Total_passangers</th>\n",
       "      <th>Total_Injured</th>\n",
       "      <th>no_of accidents</th>\n",
       "      <th>Total_Fatal_Injuries</th>\n",
       "    </tr>\n",
       "  </thead>\n",
       "  <tbody>\n",
       "    <tr>\n",
       "      <th>66</th>\n",
       "      <td>AERO COMMANDER</td>\n",
       "      <td>951.0</td>\n",
       "      <td>427.0</td>\n",
       "      <td>429</td>\n",
       "      <td>246</td>\n",
       "    </tr>\n",
       "    <tr>\n",
       "      <th>93</th>\n",
       "      <td>AERONCA</td>\n",
       "      <td>1048.0</td>\n",
       "      <td>442.0</td>\n",
       "      <td>636</td>\n",
       "      <td>118</td>\n",
       "    </tr>\n",
       "  </tbody>\n",
       "</table>\n",
       "</div>"
      ],
      "text/plain": [
       "              Make  Total_passangers  Total_Injured  no_of accidents  \\\n",
       "66  AERO COMMANDER             951.0          427.0              429   \n",
       "93         AERONCA            1048.0          442.0              636   \n",
       "\n",
       "    Total_Fatal_Injuries  \n",
       "66                   246  \n",
       "93                   118  "
      ]
     },
     "execution_count": 197,
     "metadata": {},
     "output_type": "execute_result"
    }
   ],
   "source": [
    "##df.to_csv('Cleaned_accidents_date.csv',index=False)\n",
    "##df_accidents_by_make.to_csv('Accidents by make.csv',index=False)\n",
    "##df_Damage_by_make.to_csv('Damagebymake.csv',index=True)\n",
    "df_commercial_plane_data.to_csv('commercial_plane_data.csv',index=False)\n",
    "#df_Accident_summary.to_csv('Accident_summary.csv',index=False)\n",
    "df_commercial_plane_data.head(2)"
   ]
  },
  {
   "cell_type": "code",
   "execution_count": 198,
   "id": "cc375f5d-67ab-4d06-8632-8f5f36367bb4",
   "metadata": {},
   "outputs": [
    {
     "data": {
      "text/html": [
       "<div>\n",
       "<style scoped>\n",
       "    .dataframe tbody tr th:only-of-type {\n",
       "        vertical-align: middle;\n",
       "    }\n",
       "\n",
       "    .dataframe tbody tr th {\n",
       "        vertical-align: top;\n",
       "    }\n",
       "\n",
       "    .dataframe thead th {\n",
       "        text-align: right;\n",
       "    }\n",
       "</style>\n",
       "<table border=\"1\" class=\"dataframe\">\n",
       "  <thead>\n",
       "    <tr style=\"text-align: right;\">\n",
       "      <th></th>\n",
       "      <th>Make</th>\n",
       "      <th>Total_passangers</th>\n",
       "      <th>Total_Injured</th>\n",
       "      <th>no_of accidents</th>\n",
       "      <th>Total_Fatal_Injuries</th>\n",
       "      <th>Injury_rate</th>\n",
       "      <th>Fatality_rate</th>\n",
       "    </tr>\n",
       "  </thead>\n",
       "  <tbody>\n",
       "    <tr>\n",
       "      <th>0</th>\n",
       "      <td>107.5 FLYING CORPORATION</td>\n",
       "      <td>2.0</td>\n",
       "      <td>1.0</td>\n",
       "      <td>1</td>\n",
       "      <td>1</td>\n",
       "      <td>50.0</td>\n",
       "      <td>50.0</td>\n",
       "    </tr>\n",
       "    <tr>\n",
       "      <th>1</th>\n",
       "      <td>1200</td>\n",
       "      <td>2.0</td>\n",
       "      <td>1.0</td>\n",
       "      <td>1</td>\n",
       "      <td>0</td>\n",
       "      <td>50.0</td>\n",
       "      <td>0.0</td>\n",
       "    </tr>\n",
       "  </tbody>\n",
       "</table>\n",
       "</div>"
      ],
      "text/plain": [
       "                       Make  Total_passangers  Total_Injured  no_of accidents  \\\n",
       "0  107.5 FLYING CORPORATION               2.0            1.0                1   \n",
       "1                      1200               2.0            1.0                1   \n",
       "\n",
       "   Total_Fatal_Injuries  Injury_rate  Fatality_rate  \n",
       "0                     1         50.0           50.0  \n",
       "1                     0         50.0            0.0  "
      ]
     },
     "execution_count": 198,
     "metadata": {},
     "output_type": "execute_result"
    }
   ],
   "source": [
    "#adding the injury rate and fatality rate to the data frame\n",
    "df_commercial_plane_data=df_accidents_by_make.rename(columns={'Accident_Id':'no_of accidents'})\n",
    "df_commercial_plane_data['Injury_rate']=(df_commercial_plane_data['Total_Injured']/df_commercial_plane_data['Total_passangers'])*100\n",
    "df_commercial_plane_data['Fatality_rate']=(df_commercial_plane_data['Total_Fatal_Injuries']/df_commercial_plane_data['Total_passangers'])*100\n",
    "df_commercial_plane_data.head(2)\n"
   ]
  },
  {
   "cell_type": "markdown",
   "id": "fda0d219-414f-4c0c-bc01-acb83e4d9f1c",
   "metadata": {},
   "source": [
    "#### **Top 10 makes in committing accidents**"
   ]
  },
  {
   "cell_type": "code",
   "execution_count": 199,
   "id": "a9f92dfa-d9b3-4688-b811-5d2562372380",
   "metadata": {},
   "outputs": [
    {
     "data": {
      "text/html": [
       "<div>\n",
       "<style scoped>\n",
       "    .dataframe tbody tr th:only-of-type {\n",
       "        vertical-align: middle;\n",
       "    }\n",
       "\n",
       "    .dataframe tbody tr th {\n",
       "        vertical-align: top;\n",
       "    }\n",
       "\n",
       "    .dataframe thead th {\n",
       "        text-align: right;\n",
       "    }\n",
       "</style>\n",
       "<table border=\"1\" class=\"dataframe\">\n",
       "  <thead>\n",
       "    <tr style=\"text-align: right;\">\n",
       "      <th></th>\n",
       "      <th>Make</th>\n",
       "      <th>Total_passangers</th>\n",
       "      <th>Total_Injured</th>\n",
       "      <th>no_of accidents</th>\n",
       "      <th>Total_Fatal_Injuries</th>\n",
       "    </tr>\n",
       "  </thead>\n",
       "  <tbody>\n",
       "    <tr>\n",
       "      <th>0</th>\n",
       "      <td>107.5 FLYING CORPORATION</td>\n",
       "      <td>2.0</td>\n",
       "      <td>1.0</td>\n",
       "      <td>1</td>\n",
       "      <td>1</td>\n",
       "    </tr>\n",
       "    <tr>\n",
       "      <th>1</th>\n",
       "      <td>1200</td>\n",
       "      <td>2.0</td>\n",
       "      <td>1.0</td>\n",
       "      <td>1</td>\n",
       "      <td>0</td>\n",
       "    </tr>\n",
       "    <tr>\n",
       "      <th>2</th>\n",
       "      <td>177MF LLC</td>\n",
       "      <td>2.0</td>\n",
       "      <td>2.0</td>\n",
       "      <td>1</td>\n",
       "      <td>0</td>\n",
       "    </tr>\n",
       "    <tr>\n",
       "      <th>3</th>\n",
       "      <td>1977 COLFER-CHAN</td>\n",
       "      <td>2.0</td>\n",
       "      <td>1.0</td>\n",
       "      <td>1</td>\n",
       "      <td>0</td>\n",
       "    </tr>\n",
       "    <tr>\n",
       "      <th>4</th>\n",
       "      <td>1ST FTR GP</td>\n",
       "      <td>1.0</td>\n",
       "      <td>1.0</td>\n",
       "      <td>1</td>\n",
       "      <td>1</td>\n",
       "    </tr>\n",
       "  </tbody>\n",
       "</table>\n",
       "</div>"
      ],
      "text/plain": [
       "                       Make  Total_passangers  Total_Injured  no_of accidents  \\\n",
       "0  107.5 FLYING CORPORATION               2.0            1.0                1   \n",
       "1                      1200               2.0            1.0                1   \n",
       "2                 177MF LLC               2.0            2.0                1   \n",
       "3          1977 COLFER-CHAN               2.0            1.0                1   \n",
       "4                1ST FTR GP               1.0            1.0                1   \n",
       "\n",
       "   Total_Fatal_Injuries  \n",
       "0                     1  \n",
       "1                     0  \n",
       "2                     0  \n",
       "3                     0  \n",
       "4                     1  "
      ]
     },
     "execution_count": 199,
     "metadata": {},
     "output_type": "execute_result"
    }
   ],
   "source": [
    "df_accidents_by_make=df_accidents_by_make.rename(columns={'Accident_Id':'no_of accidents'})\n",
    "df_accidents_by_make.head()"
   ]
  },
  {
   "cell_type": "code",
   "execution_count": 200,
   "id": "c9dab276-530d-40cb-b803-66d4eb31c5a5",
   "metadata": {},
   "outputs": [
    {
     "data": {
      "text/html": [
       "<div>\n",
       "<style scoped>\n",
       "    .dataframe tbody tr th:only-of-type {\n",
       "        vertical-align: middle;\n",
       "    }\n",
       "\n",
       "    .dataframe tbody tr th {\n",
       "        vertical-align: top;\n",
       "    }\n",
       "\n",
       "    .dataframe thead th {\n",
       "        text-align: right;\n",
       "    }\n",
       "</style>\n",
       "<table border=\"1\" class=\"dataframe\">\n",
       "  <thead>\n",
       "    <tr style=\"text-align: right;\">\n",
       "      <th></th>\n",
       "      <th>Make</th>\n",
       "      <th>Total_passangers</th>\n",
       "      <th>Total_Injured</th>\n",
       "      <th>no_of accidents</th>\n",
       "      <th>Total_Fatal_Injuries</th>\n",
       "      <th>Injury_rate</th>\n",
       "      <th>Fatality_rate</th>\n",
       "    </tr>\n",
       "  </thead>\n",
       "  <tbody>\n",
       "    <tr>\n",
       "      <th>1247</th>\n",
       "      <td>CESSNA</td>\n",
       "      <td>57273.0</td>\n",
       "      <td>21407.0</td>\n",
       "      <td>27145</td>\n",
       "      <td>9638</td>\n",
       "      <td>37.377124</td>\n",
       "      <td>16.828174</td>\n",
       "    </tr>\n",
       "    <tr>\n",
       "      <th>5257</th>\n",
       "      <td>PIPER</td>\n",
       "      <td>32190.0</td>\n",
       "      <td>13504.0</td>\n",
       "      <td>14869</td>\n",
       "      <td>6688</td>\n",
       "      <td>41.950916</td>\n",
       "      <td>20.776639</td>\n",
       "    </tr>\n",
       "    <tr>\n",
       "      <th>629</th>\n",
       "      <td>BEECH</td>\n",
       "      <td>14557.0</td>\n",
       "      <td>6221.0</td>\n",
       "      <td>5376</td>\n",
       "      <td>3786</td>\n",
       "      <td>42.735454</td>\n",
       "      <td>26.008106</td>\n",
       "    </tr>\n",
       "    <tr>\n",
       "      <th>649</th>\n",
       "      <td>BELL</td>\n",
       "      <td>6730.0</td>\n",
       "      <td>3378.0</td>\n",
       "      <td>2766</td>\n",
       "      <td>1355</td>\n",
       "      <td>50.193165</td>\n",
       "      <td>20.133730</td>\n",
       "    </tr>\n",
       "    <tr>\n",
       "      <th>817</th>\n",
       "      <td>BOEING</td>\n",
       "      <td>222550.0</td>\n",
       "      <td>13686.0</td>\n",
       "      <td>2746</td>\n",
       "      <td>8748</td>\n",
       "      <td>6.149629</td>\n",
       "      <td>3.930802</td>\n",
       "    </tr>\n",
       "    <tr>\n",
       "      <th>4734</th>\n",
       "      <td>MOONEY</td>\n",
       "      <td>2736.0</td>\n",
       "      <td>1324.0</td>\n",
       "      <td>1334</td>\n",
       "      <td>685</td>\n",
       "      <td>48.391813</td>\n",
       "      <td>25.036550</td>\n",
       "    </tr>\n",
       "    <tr>\n",
       "      <th>5742</th>\n",
       "      <td>ROBINSON</td>\n",
       "      <td>2436.0</td>\n",
       "      <td>1157.0</td>\n",
       "      <td>1229</td>\n",
       "      <td>618</td>\n",
       "      <td>47.495895</td>\n",
       "      <td>25.369458</td>\n",
       "    </tr>\n",
       "    <tr>\n",
       "      <th>2835</th>\n",
       "      <td>GRUMMAN</td>\n",
       "      <td>1960.0</td>\n",
       "      <td>687.0</td>\n",
       "      <td>1172</td>\n",
       "      <td>248</td>\n",
       "      <td>35.051020</td>\n",
       "      <td>12.653061</td>\n",
       "    </tr>\n",
       "    <tr>\n",
       "      <th>678</th>\n",
       "      <td>BELLANCA</td>\n",
       "      <td>1767.0</td>\n",
       "      <td>780.0</td>\n",
       "      <td>1045</td>\n",
       "      <td>345</td>\n",
       "      <td>44.142615</td>\n",
       "      <td>19.524618</td>\n",
       "    </tr>\n",
       "    <tr>\n",
       "      <th>3334</th>\n",
       "      <td>HUGHES</td>\n",
       "      <td>1956.0</td>\n",
       "      <td>776.0</td>\n",
       "      <td>932</td>\n",
       "      <td>203</td>\n",
       "      <td>39.672802</td>\n",
       "      <td>10.378323</td>\n",
       "    </tr>\n",
       "  </tbody>\n",
       "</table>\n",
       "</div>"
      ],
      "text/plain": [
       "          Make  Total_passangers  Total_Injured  no_of accidents  \\\n",
       "1247    CESSNA           57273.0        21407.0            27145   \n",
       "5257     PIPER           32190.0        13504.0            14869   \n",
       "629      BEECH           14557.0         6221.0             5376   \n",
       "649       BELL            6730.0         3378.0             2766   \n",
       "817     BOEING          222550.0        13686.0             2746   \n",
       "4734    MOONEY            2736.0         1324.0             1334   \n",
       "5742  ROBINSON            2436.0         1157.0             1229   \n",
       "2835   GRUMMAN            1960.0          687.0             1172   \n",
       "678   BELLANCA            1767.0          780.0             1045   \n",
       "3334    HUGHES            1956.0          776.0              932   \n",
       "\n",
       "      Total_Fatal_Injuries  Injury_rate  Fatality_rate  \n",
       "1247                  9638    37.377124      16.828174  \n",
       "5257                  6688    41.950916      20.776639  \n",
       "629                   3786    42.735454      26.008106  \n",
       "649                   1355    50.193165      20.133730  \n",
       "817                   8748     6.149629       3.930802  \n",
       "4734                   685    48.391813      25.036550  \n",
       "5742                   618    47.495895      25.369458  \n",
       "2835                   248    35.051020      12.653061  \n",
       "678                    345    44.142615      19.524618  \n",
       "3334                   203    39.672802      10.378323  "
      ]
     },
     "execution_count": 200,
     "metadata": {},
     "output_type": "execute_result"
    }
   ],
   "source": [
    "top_10_accident_makes=df_commercial_plane_data.sort_values(by='no_of accidents',ascending=False).head(10)\n",
    "top_10_accident_makes"
   ]
  },
  {
   "cell_type": "code",
   "execution_count": 201,
   "id": "7cf8b0c9-af34-479c-8de3-02c05de45acc",
   "metadata": {},
   "outputs": [
    {
     "data": {
      "image/png": "[encoded data removed]",
      "text/plain": [
       "<Figure size 640x480 with 1 Axes>"
      ]
     },
     "metadata": {},
     "output_type": "display_data"
    }
   ],
   "source": [
    "plt .barh(top_10_accident_makes['Make'],top_10_accident_makes['no_of accidents'],color='green',edgecolor='red')\n",
    "plt.ylabel('Make')\n",
    "plt.xlabel('Reported Accidents')\n",
    "plt.title('Top 10 Makes by accidents')\n",
    "plt.tight_layout()\n",
    "plt.show()\n"
   ]
  },
  {
   "cell_type": "markdown",
   "id": "89920ab1-44f5-4978-a285-00fb62216fa6",
   "metadata": {},
   "source": [
    "#### **Top 10 makes in fatality**"
   ]
  },
  {
   "cell_type": "code",
   "execution_count": 202,
   "id": "c3342f16-90ce-4970-9926-52f35372142f",
   "metadata": {},
   "outputs": [
    {
     "data": {
      "text/html": [
       "<div>\n",
       "<style scoped>\n",
       "    .dataframe tbody tr th:only-of-type {\n",
       "        vertical-align: middle;\n",
       "    }\n",
       "\n",
       "    .dataframe tbody tr th {\n",
       "        vertical-align: top;\n",
       "    }\n",
       "\n",
       "    .dataframe thead th {\n",
       "        text-align: right;\n",
       "    }\n",
       "</style>\n",
       "<table border=\"1\" class=\"dataframe\">\n",
       "  <thead>\n",
       "    <tr style=\"text-align: right;\">\n",
       "      <th></th>\n",
       "      <th>Make</th>\n",
       "      <th>Total_passangers</th>\n",
       "      <th>Total_Injured</th>\n",
       "      <th>no_of accidents</th>\n",
       "      <th>Total_Fatal_Injuries</th>\n",
       "      <th>Injury_rate</th>\n",
       "      <th>Fatality_rate</th>\n",
       "    </tr>\n",
       "  </thead>\n",
       "  <tbody>\n",
       "    <tr>\n",
       "      <th>1247</th>\n",
       "      <td>CESSNA</td>\n",
       "      <td>57273.0</td>\n",
       "      <td>21407.0</td>\n",
       "      <td>27145</td>\n",
       "      <td>9638</td>\n",
       "      <td>37.377124</td>\n",
       "      <td>16.828174</td>\n",
       "    </tr>\n",
       "    <tr>\n",
       "      <th>817</th>\n",
       "      <td>BOEING</td>\n",
       "      <td>222550.0</td>\n",
       "      <td>13686.0</td>\n",
       "      <td>2746</td>\n",
       "      <td>8748</td>\n",
       "      <td>6.149629</td>\n",
       "      <td>3.930802</td>\n",
       "    </tr>\n",
       "    <tr>\n",
       "      <th>5257</th>\n",
       "      <td>PIPER</td>\n",
       "      <td>32190.0</td>\n",
       "      <td>13504.0</td>\n",
       "      <td>14869</td>\n",
       "      <td>6688</td>\n",
       "      <td>41.950916</td>\n",
       "      <td>20.776639</td>\n",
       "    </tr>\n",
       "    <tr>\n",
       "      <th>629</th>\n",
       "      <td>BEECH</td>\n",
       "      <td>14557.0</td>\n",
       "      <td>6221.0</td>\n",
       "      <td>5376</td>\n",
       "      <td>3786</td>\n",
       "      <td>42.735454</td>\n",
       "      <td>26.008106</td>\n",
       "    </tr>\n",
       "    <tr>\n",
       "      <th>175</th>\n",
       "      <td>AIRBUS</td>\n",
       "      <td>46043.0</td>\n",
       "      <td>3378.0</td>\n",
       "      <td>476</td>\n",
       "      <td>2521</td>\n",
       "      <td>7.336620</td>\n",
       "      <td>5.475317</td>\n",
       "    </tr>\n",
       "    <tr>\n",
       "      <th>649</th>\n",
       "      <td>BELL</td>\n",
       "      <td>6730.0</td>\n",
       "      <td>3378.0</td>\n",
       "      <td>2766</td>\n",
       "      <td>1355</td>\n",
       "      <td>50.193165</td>\n",
       "      <td>20.133730</td>\n",
       "    </tr>\n",
       "    <tr>\n",
       "      <th>4471</th>\n",
       "      <td>MCDONNELL DOUGLAS</td>\n",
       "      <td>49172.0</td>\n",
       "      <td>3347.0</td>\n",
       "      <td>614</td>\n",
       "      <td>1286</td>\n",
       "      <td>6.806719</td>\n",
       "      <td>2.615310</td>\n",
       "    </tr>\n",
       "    <tr>\n",
       "      <th>1945</th>\n",
       "      <td>DOUGLAS</td>\n",
       "      <td>10154.0</td>\n",
       "      <td>1336.0</td>\n",
       "      <td>281</td>\n",
       "      <td>984</td>\n",
       "      <td>13.157376</td>\n",
       "      <td>9.690762</td>\n",
       "    </tr>\n",
       "    <tr>\n",
       "      <th>4734</th>\n",
       "      <td>MOONEY</td>\n",
       "      <td>2736.0</td>\n",
       "      <td>1324.0</td>\n",
       "      <td>1334</td>\n",
       "      <td>685</td>\n",
       "      <td>48.391813</td>\n",
       "      <td>25.036550</td>\n",
       "    </tr>\n",
       "    <tr>\n",
       "      <th>5742</th>\n",
       "      <td>ROBINSON</td>\n",
       "      <td>2436.0</td>\n",
       "      <td>1157.0</td>\n",
       "      <td>1229</td>\n",
       "      <td>618</td>\n",
       "      <td>47.495895</td>\n",
       "      <td>25.369458</td>\n",
       "    </tr>\n",
       "  </tbody>\n",
       "</table>\n",
       "</div>"
      ],
      "text/plain": [
       "                   Make  Total_passangers  Total_Injured  no_of accidents  \\\n",
       "1247             CESSNA           57273.0        21407.0            27145   \n",
       "817              BOEING          222550.0        13686.0             2746   \n",
       "5257              PIPER           32190.0        13504.0            14869   \n",
       "629               BEECH           14557.0         6221.0             5376   \n",
       "175              AIRBUS           46043.0         3378.0              476   \n",
       "649                BELL            6730.0         3378.0             2766   \n",
       "4471  MCDONNELL DOUGLAS           49172.0         3347.0              614   \n",
       "1945            DOUGLAS           10154.0         1336.0              281   \n",
       "4734             MOONEY            2736.0         1324.0             1334   \n",
       "5742           ROBINSON            2436.0         1157.0             1229   \n",
       "\n",
       "      Total_Fatal_Injuries  Injury_rate  Fatality_rate  \n",
       "1247                  9638    37.377124      16.828174  \n",
       "817                   8748     6.149629       3.930802  \n",
       "5257                  6688    41.950916      20.776639  \n",
       "629                   3786    42.735454      26.008106  \n",
       "175                   2521     7.336620       5.475317  \n",
       "649                   1355    50.193165      20.133730  \n",
       "4471                  1286     6.806719       2.615310  \n",
       "1945                   984    13.157376       9.690762  \n",
       "4734                   685    48.391813      25.036550  \n",
       "5742                   618    47.495895      25.369458  "
      ]
     },
     "execution_count": 202,
     "metadata": {},
     "output_type": "execute_result"
    }
   ],
   "source": [
    "top_10_accident_Fatalities=df_commercial_plane_data.sort_values(by='Total_Fatal_Injuries',ascending=False).head(10)\n",
    "top_10_accident_Fatalities"
   ]
  },
  {
   "cell_type": "code",
   "execution_count": 203,
   "id": "aaf7a984-7b5c-405f-9da5-5bdb6518eafb",
   "metadata": {},
   "outputs": [
    {
     "data": {
      "image/png": "[encoded data removed]",
      "text/plain": [
       "<Figure size 2000x1000 with 1 Axes>"
      ]
     },
     "metadata": {},
     "output_type": "display_data"
    }
   ],
   "source": [
    "fig,ax=plt.subplots(figsize=(20,10))\n",
    "ax .bar(top_10_accident_Fatalities['Make'],top_10_accident_Fatalities['Total_Fatal_Injuries'],color='yellow',edgecolor='red')\n",
    "ax.set_ylabel('NO of fatalities')\n",
    "ax.set_xlabel('Make')\n",
    "plt.title('Top 10  fatalities by make')\n",
    "plt.tight_layout()\n",
    "plt.show()"
   ]
  },
  {
   "cell_type": "markdown",
   "id": "1579cae0-a57b-4746-b068-d409e53f4c7f",
   "metadata": {},
   "source": [
    "#### **Top_10_makes_by_customer_preference**\n"
   ]
  },
  {
   "cell_type": "code",
   "execution_count": 205,
   "id": "3a40be2c-21e0-4e84-9acd-7d9ef8b6aa8d",
   "metadata": {},
   "outputs": [
    {
     "data": {
      "image/png": "[encoded data removed]",
      "text/plain": [
       "<Figure size 1500x1000 with 1 Axes>"
      ]
     },
     "metadata": {},
     "output_type": "display_data"
    }
   ],
   "source": [
    "top_10_safe_makes_by_customer_preference = df_commercial_plane_data.sort_values(by='Total_passangers', ascending=False).head(10)\n",
    "top_10_safe_makes_by_customer_preference\n",
    "\n",
    "fig,ax=plt.subplots(figsize=(15,10))\n",
    "ax .bar(top_10_safe_makes_by_customer_preference['Make'],top_10_safe_makes_by_customer_preference['Total_passangers'],color='green')\n",
    "ax.set_ylabel('Passengers')\n",
    "ax.set_xlabel('Make')\n",
    "plt.title('Top 10 preffered makes')\n",
    "plt.tight_layout()\n",
    "plt.show()"
   ]
  },
  {
   "cell_type": "markdown",
   "id": "756efa64-1bc0-4624-a8e7-a6e0a0e3fd35",
   "metadata": {},
   "source": [
    "## **Resluts upon visiualization in Tableau**"
   ]
  },
  {
   "cell_type": "markdown",
   "id": "3d9069a9-cb85-4f64-b6ec-77918f352210",
   "metadata": {
    "jp-MarkdownHeadingCollapsed": true
   },
   "source": [
    "### **Risk rating by fatality rate**\n",
    "Upon cleaning the data and filtering out makes with total passangers of 500 and above, the risk of fatality by plane was computed as by comparing the % of fotal injuries with the total injuries.  \n",
    "The  data was the plotted in Tableau to identify the makes that had fatality rate of 10% and below.\n",
    "The classifiaction of aircraft make by fatality rate was as below:  \n",
    "![data summary](fatality.png)\n"
   ]
  },
  {
   "cell_type": "markdown",
   "id": "0057e41f-0350-4470-ace4-a0e9f7155fa5",
   "metadata": {},
   "source": [
    "\n",
    "### **Injury risk by make of aircraft**\n",
    "\n",
    "The injury risk  to the passangers was derived as a percentage rate of passangers injured by aircraft make to the total passangers per aricraft.  \n",
    "The clasisfication of aircaft make by injury rate was as summarised below:  \n",
    "![data summary](injuryrate.png)\n"
   ]
  },
  {
   "cell_type": "markdown",
   "id": "4ed8cc90-916d-4a5f-ba6a-f07dbd3ce490",
   "metadata": {},
   "source": [
    "\n",
    "### **Customer preference per make**\n",
    "Customer preference was deemed an important factor in sustaining revneue generation to the company. A such, a summary of the market share per make was provided to management. The summary was as below:\n",
    "\n",
    "![data summary](marketshare.png)"
   ]
  },
  {
   "cell_type": "markdown",
   "id": "4c529fef-c3e9-488e-8081-de065e6770d9",
   "metadata": {},
   "source": [
    "The dash board can be accessed  through the below link:  \n",
    "https://public.tableau.com/app/profile/evan.ndungu/viz/test_17388350808510/Dashboard1"
   ]
  },
  {
   "cell_type": "markdown",
   "id": "7077e5e5-5edf-4a8b-894d-4a559f8f2d6e",
   "metadata": {},
   "source": [
    "## **Conclusion**\n",
    "Based on the analysis, above the compoany has more than one make whch falls within the injury and fatality rate of below 10%.\n",
    "In terms of customer preference and market share, Boeng has the largest market share for the company to tap in to."
   ]
  },
  {
   "cell_type": "markdown",
   "id": "f28f107e-f8cb-4d85-91ed-b4f2c7b3b188",
   "metadata": {},
   "source": [
    "## **Recommendation**\n",
    "Based on the analysis, Boeng has the highest market share for the company  to tap into.\n",
    "with an injury rate of **6.16%** and fatality rate of **3.92%** the make presents a high opportunity to tap into with risks of pasanger injury and fatality within the compnay thresholds.\n"
   ]
  },
  {
   "cell_type": "code",
   "execution_count": null,
   "id": "4afbb704-8f0c-41d1-9fc5-9632d53eaa31",
   "metadata": {},
   "outputs": [],
   "source": []
  }
 ],
 "metadata": {
  "kernelspec": {
   "display_name": "Python 3 (ipykernel)",
   "language": "python",
   "name": "python3"
  },
  "language_info": {
   "codemirror_mode": {
    "name": "ipython",
    "version": 3
   },
   "file_extension": ".py",
   "mimetype": "text/x-python",
   "name": "python",
   "nbconvert_exporter": "python",
   "pygments_lexer": "ipython3",
   "version": "3.12.7"
  }
 },
 "nbformat": 4,
 "nbformat_minor": 5
}
